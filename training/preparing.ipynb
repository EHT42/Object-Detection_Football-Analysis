{
 "cells": [
  {
   "cell_type": "markdown",
   "id": "38991de7ae8beed6",
   "metadata": {},
   "source": [
    "Roboflow installieren"
   ]
  },
  {
   "cell_type": "code",
   "id": "initial_id",
   "metadata": {
    "collapsed": true,
    "jupyter": {
     "outputs_hidden": true
    },
    "ExecuteTime": {
     "end_time": "2024-09-23T18:53:48.726742Z",
     "start_time": "2024-09-23T18:53:45.582996Z"
    }
   },
   "source": [
    "!pip install roboflow"
   ],
   "outputs": [
    {
     "name": "stdout",
     "output_type": "stream",
     "text": [
      "Collecting roboflow\n",
      "  Obtaining dependency information for roboflow from https://files.pythonhosted.org/packages/f7/d2/6bb7779b2191715541f6d68c4b9e4d905097047464f397b99ec11d57ce85/roboflow-1.1.45-py3-none-any.whl.metadata\n",
      "  Using cached roboflow-1.1.45-py3-none-any.whl.metadata (9.7 kB)\n",
      "Requirement already satisfied: certifi in c:\\users\\yunge\\pycharmprojects\\ml\\new_football_analysis\\.venv\\lib\\site-packages (from roboflow) (2024.8.30)\n",
      "Collecting idna==3.7 (from roboflow)\n",
      "  Obtaining dependency information for idna==3.7 from https://files.pythonhosted.org/packages/e5/3e/741d8c82801c347547f8a2a06aa57dbb1992be9e948df2ea0eda2c8b79e8/idna-3.7-py3-none-any.whl.metadata\n",
      "  Using cached idna-3.7-py3-none-any.whl.metadata (9.9 kB)\n",
      "Requirement already satisfied: cycler in c:\\users\\yunge\\pycharmprojects\\ml\\new_football_analysis\\.venv\\lib\\site-packages (from roboflow) (0.12.1)\n",
      "Requirement already satisfied: kiwisolver>=1.3.1 in c:\\users\\yunge\\pycharmprojects\\ml\\new_football_analysis\\.venv\\lib\\site-packages (from roboflow) (1.4.7)\n",
      "Requirement already satisfied: matplotlib in c:\\users\\yunge\\pycharmprojects\\ml\\new_football_analysis\\.venv\\lib\\site-packages (from roboflow) (3.9.2)\n",
      "Requirement already satisfied: numpy>=1.18.5 in c:\\users\\yunge\\pycharmprojects\\ml\\new_football_analysis\\.venv\\lib\\site-packages (from roboflow) (1.26.4)\n",
      "Collecting opencv-python-headless==4.10.0.84 (from roboflow)\n",
      "  Obtaining dependency information for opencv-python-headless==4.10.0.84 from https://files.pythonhosted.org/packages/26/d0/22f68eb23eea053a31655960f133c0be9726c6a881547e6e9e7e2a946c4f/opencv_python_headless-4.10.0.84-cp37-abi3-win_amd64.whl.metadata\n",
      "  Using cached opencv_python_headless-4.10.0.84-cp37-abi3-win_amd64.whl.metadata (20 kB)\n",
      "Requirement already satisfied: Pillow>=7.1.2 in c:\\users\\yunge\\pycharmprojects\\ml\\new_football_analysis\\.venv\\lib\\site-packages (from roboflow) (10.4.0)\n",
      "Requirement already satisfied: python-dateutil in c:\\users\\yunge\\pycharmprojects\\ml\\new_football_analysis\\.venv\\lib\\site-packages (from roboflow) (2.9.0.post0)\n",
      "Collecting python-dotenv (from roboflow)\n",
      "  Obtaining dependency information for python-dotenv from https://files.pythonhosted.org/packages/6a/3e/b68c118422ec867fa7ab88444e1274aa40681c606d59ac27de5a5588f082/python_dotenv-1.0.1-py3-none-any.whl.metadata\n",
      "  Using cached python_dotenv-1.0.1-py3-none-any.whl.metadata (23 kB)\n",
      "Requirement already satisfied: requests in c:\\users\\yunge\\pycharmprojects\\ml\\new_football_analysis\\.venv\\lib\\site-packages (from roboflow) (2.32.3)\n",
      "Requirement already satisfied: six in c:\\users\\yunge\\pycharmprojects\\ml\\new_football_analysis\\.venv\\lib\\site-packages (from roboflow) (1.16.0)\n",
      "Requirement already satisfied: urllib3>=1.26.6 in c:\\users\\yunge\\pycharmprojects\\ml\\new_football_analysis\\.venv\\lib\\site-packages (from roboflow) (2.2.3)\n",
      "Requirement already satisfied: tqdm>=4.41.0 in c:\\users\\yunge\\pycharmprojects\\ml\\new_football_analysis\\.venv\\lib\\site-packages (from roboflow) (4.66.5)\n",
      "Requirement already satisfied: PyYAML>=5.3.1 in c:\\users\\yunge\\pycharmprojects\\ml\\new_football_analysis\\.venv\\lib\\site-packages (from roboflow) (6.0.2)\n",
      "Collecting requests-toolbelt (from roboflow)\n",
      "  Obtaining dependency information for requests-toolbelt from https://files.pythonhosted.org/packages/3f/51/d4db610ef29373b879047326cbf6fa98b6c1969d6f6dc423279de2b1be2c/requests_toolbelt-1.0.0-py2.py3-none-any.whl.metadata\n",
      "  Using cached requests_toolbelt-1.0.0-py2.py3-none-any.whl.metadata (14 kB)\n",
      "Collecting filetype (from roboflow)\n",
      "  Obtaining dependency information for filetype from https://files.pythonhosted.org/packages/18/79/1b8fa1bb3568781e84c9200f951c735f3f157429f44be0495da55894d620/filetype-1.2.0-py2.py3-none-any.whl.metadata\n",
      "  Using cached filetype-1.2.0-py2.py3-none-any.whl.metadata (6.5 kB)\n",
      "Requirement already satisfied: colorama in c:\\users\\yunge\\pycharmprojects\\ml\\new_football_analysis\\.venv\\lib\\site-packages (from tqdm>=4.41.0->roboflow) (0.4.6)\n",
      "Requirement already satisfied: contourpy>=1.0.1 in c:\\users\\yunge\\pycharmprojects\\ml\\new_football_analysis\\.venv\\lib\\site-packages (from matplotlib->roboflow) (1.3.0)\n",
      "Requirement already satisfied: fonttools>=4.22.0 in c:\\users\\yunge\\pycharmprojects\\ml\\new_football_analysis\\.venv\\lib\\site-packages (from matplotlib->roboflow) (4.54.0)\n",
      "Requirement already satisfied: packaging>=20.0 in c:\\users\\yunge\\pycharmprojects\\ml\\new_football_analysis\\.venv\\lib\\site-packages (from matplotlib->roboflow) (24.1)\n",
      "Requirement already satisfied: pyparsing>=2.3.1 in c:\\users\\yunge\\pycharmprojects\\ml\\new_football_analysis\\.venv\\lib\\site-packages (from matplotlib->roboflow) (3.1.4)\n",
      "Requirement already satisfied: charset-normalizer<4,>=2 in c:\\users\\yunge\\pycharmprojects\\ml\\new_football_analysis\\.venv\\lib\\site-packages (from requests->roboflow) (3.3.2)\n",
      "Using cached roboflow-1.1.45-py3-none-any.whl (80 kB)\n",
      "Using cached idna-3.7-py3-none-any.whl (66 kB)\n",
      "Using cached opencv_python_headless-4.10.0.84-cp37-abi3-win_amd64.whl (38.8 MB)\n",
      "Using cached filetype-1.2.0-py2.py3-none-any.whl (19 kB)\n",
      "Using cached python_dotenv-1.0.1-py3-none-any.whl (19 kB)\n",
      "Using cached requests_toolbelt-1.0.0-py2.py3-none-any.whl (54 kB)\n",
      "Installing collected packages: filetype, python-dotenv, opencv-python-headless, idna, requests-toolbelt, roboflow\n",
      "  Attempting uninstall: idna\n",
      "    Found existing installation: idna 3.10\n",
      "    Uninstalling idna-3.10:\n",
      "      Successfully uninstalled idna-3.10\n",
      "Successfully installed filetype-1.2.0 idna-3.7 opencv-python-headless-4.10.0.84 python-dotenv-1.0.1 requests-toolbelt-1.0.0 roboflow-1.1.45\n"
     ]
    },
    {
     "name": "stderr",
     "output_type": "stream",
     "text": [
      "\n",
      "[notice] A new release of pip is available: 23.2.1 -> 24.2\n",
      "[notice] To update, run: python.exe -m pip install --upgrade pip\n"
     ]
    }
   ],
   "execution_count": 1
  },
  {
   "cell_type": "markdown",
   "id": "c5099d68e2c45a0b",
   "metadata": {},
   "source": [
    "Datensatz herunterladen"
   ]
  },
  {
   "cell_type": "markdown",
   "id": "806916bbda86ee99",
   "metadata": {},
   "source": [
    "https://universe.roboflow.com/roboflow-jvuqo/football-players-detection-3zvbc/dataset/1"
   ]
  },
  {
   "cell_type": "code",
   "id": "481b23fffd900d18",
   "metadata": {
    "ExecuteTime": {
     "end_time": "2024-09-23T18:54:13.988288Z",
     "start_time": "2024-09-23T18:53:59.190218Z"
    }
   },
   "source": [
    "from roboflow import Roboflow\n",
    "rf = Roboflow(api_key=\"xxx\") #API-Key hier eingeben\n",
    "project = rf.workspace(\"roboflow-jvuqo\").project(\"football-players-detection-3zvbc\")\n",
    "version = project.version(1)\n",
    "dataset = version.download(\"yolov8\")\n",
    "                         "
   ],
   "outputs": [
    {
     "name": "stdout",
     "output_type": "stream",
     "text": [
      "loading Roboflow workspace...\n",
      "loading Roboflow project...\n",
      "Dependency ultralytics==8.0.196 is required but found version=8.2.99, to fix: `pip install ultralytics==8.0.196`\n"
     ]
    },
    {
     "name": "stderr",
     "output_type": "stream",
     "text": [
      "Downloading Dataset Version Zip in football-players-detection-1 to yolov8:: 100%|██████████| 148663/148663 [00:07<00:00, 18797.73it/s]"
     ]
    },
    {
     "name": "stdout",
     "output_type": "stream",
     "text": [
      "\n"
     ]
    },
    {
     "name": "stderr",
     "output_type": "stream",
     "text": [
      "\n",
      "Extracting Dataset Version Zip to football-players-detection-1 in yolov8:: 100%|██████████| 1338/1338 [00:00<00:00, 1473.70it/s]\n"
     ]
    }
   ],
   "execution_count": 2
  },
  {
   "cell_type": "markdown",
   "id": "322347ef07243a5c",
   "metadata": {},
   "source": [
    "Anzeigen, wo das Dataset liegt:"
   ]
  },
  {
   "cell_type": "code",
   "id": "19e2176b7375bd64",
   "metadata": {
    "ExecuteTime": {
     "end_time": "2024-09-23T18:54:16.876966Z",
     "start_time": "2024-09-23T18:54:16.872250Z"
    }
   },
   "source": [
    "dataset.location"
   ],
   "outputs": [
    {
     "data": {
      "text/plain": [
       "'C:\\\\Users\\\\yunge\\\\PycharmProjects\\\\ML\\\\new_football_analysis\\\\training\\\\football-players-detection-1'"
      ]
     },
     "execution_count": 3,
     "metadata": {},
     "output_type": "execute_result"
    }
   ],
   "execution_count": 3
  },
  {
   "cell_type": "code",
   "id": "90920a5229e71ac2",
   "metadata": {
    "ExecuteTime": {
     "end_time": "2024-09-23T18:55:44.507600Z",
     "start_time": "2024-09-23T18:55:44.473221Z"
    }
   },
   "source": [
    "import shutil\n",
    "\n",
    "shutil.move('football-players-detection-1/test', 'football-players-detection-1/football-players-detection-1/test')\n",
    "\n",
    "shutil.move('football-players-detection-1/train', 'football-players-detection-1/football-players-detection-1/train')\n",
    "\n",
    "shutil.move('football-players-detection-1/valid', 'football-players-detection-1/football-players-detection-1/valid')"
   ],
   "outputs": [
    {
     "data": {
      "text/plain": [
       "'football-players-detection-1/football-players-detection-1/valid'"
      ]
     },
     "execution_count": 4,
     "metadata": {},
     "output_type": "execute_result"
    }
   ],
   "execution_count": 4
  },
  {
   "metadata": {},
   "cell_type": "markdown",
   "source": "Torch Installation https://download.pytorch.org/whl/cu118",
   "id": "66bd19ea48946005"
  },
  {
   "metadata": {
    "ExecuteTime": {
     "end_time": "2024-09-23T18:55:53.707398Z",
     "start_time": "2024-09-23T18:55:46.513555Z"
    }
   },
   "cell_type": "code",
   "source": [
    "!pip uninstall torch torchvision -y\n",
    "!pip install torch torchvision --index-url https://download.pytorch.org/whl/cu118"
   ],
   "id": "3fa5607a67dd816a",
   "outputs": [
    {
     "name": "stdout",
     "output_type": "stream",
     "text": [
      "^C\n",
      "Looking in indexes: https://download.pytorch.org/whl/cu118\n",
      "Requirement already satisfied: torch in c:\\users\\yunge\\pycharmprojects\\ml\\new_football_analysis\\.venv\\lib\\site-packages (2.4.1)\n",
      "Requirement already satisfied: torchvision in c:\\users\\yunge\\pycharmprojects\\ml\\new_football_analysis\\.venv\\lib\\site-packages (0.19.1)\n",
      "Requirement already satisfied: filelock in c:\\users\\yunge\\pycharmprojects\\ml\\new_football_analysis\\.venv\\lib\\site-packages (from torch) (3.16.1)\n",
      "Requirement already satisfied: typing-extensions>=4.8.0 in c:\\users\\yunge\\pycharmprojects\\ml\\new_football_analysis\\.venv\\lib\\site-packages (from torch) (4.12.2)\n",
      "Requirement already satisfied: sympy in c:\\users\\yunge\\pycharmprojects\\ml\\new_football_analysis\\.venv\\lib\\site-packages (from torch) (1.13.3)\n",
      "Requirement already satisfied: networkx in c:\\users\\yunge\\pycharmprojects\\ml\\new_football_analysis\\.venv\\lib\\site-packages (from torch) (3.3)\n",
      "Requirement already satisfied: jinja2 in c:\\users\\yunge\\pycharmprojects\\ml\\new_football_analysis\\.venv\\lib\\site-packages (from torch) (3.1.4)\n",
      "Requirement already satisfied: fsspec in c:\\users\\yunge\\pycharmprojects\\ml\\new_football_analysis\\.venv\\lib\\site-packages (from torch) (2024.9.0)\n",
      "Requirement already satisfied: setuptools in c:\\users\\yunge\\pycharmprojects\\ml\\new_football_analysis\\.venv\\lib\\site-packages (from torch) (75.1.0)\n",
      "Requirement already satisfied: numpy in c:\\users\\yunge\\pycharmprojects\\ml\\new_football_analysis\\.venv\\lib\\site-packages (from torchvision) (1.26.4)\n",
      "Requirement already satisfied: pillow!=8.3.*,>=5.3.0 in c:\\users\\yunge\\pycharmprojects\\ml\\new_football_analysis\\.venv\\lib\\site-packages (from torchvision) (10.4.0)\n",
      "Requirement already satisfied: MarkupSafe>=2.0 in c:\\users\\yunge\\pycharmprojects\\ml\\new_football_analysis\\.venv\\lib\\site-packages (from jinja2->torch) (2.1.5)\n",
      "Requirement already satisfied: mpmath<1.4,>=1.1.0 in c:\\users\\yunge\\pycharmprojects\\ml\\new_football_analysis\\.venv\\lib\\site-packages (from sympy->torch) (1.3.0)\n"
     ]
    },
    {
     "name": "stderr",
     "output_type": "stream",
     "text": [
      "\n",
      "[notice] A new release of pip is available: 23.2.1 -> 24.2\n",
      "[notice] To update, run: python.exe -m pip install --upgrade pip\n"
     ]
    }
   ],
   "execution_count": 5
  }
 ],
 "metadata": {
  "kernelspec": {
   "display_name": "Python 3 (ipykernel)",
   "language": "python",
   "name": "python3"
  },
  "language_info": {
   "codemirror_mode": {
    "name": "ipython",
    "version": 3
   },
   "file_extension": ".py",
   "mimetype": "text/x-python",
   "name": "python",
   "nbconvert_exporter": "python",
   "pygments_lexer": "ipython3",
   "version": "3.12.3"
  }
 },
 "nbformat": 4,
 "nbformat_minor": 5
}
